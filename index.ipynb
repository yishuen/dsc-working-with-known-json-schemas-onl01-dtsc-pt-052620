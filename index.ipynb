{
 "cells": [
  {
   "cell_type": "markdown",
   "metadata": {},
   "source": [
    "# Section 09: JSON & APIs\n",
    "\n",
    "## Reading a JSON Schema\n",
    "\n",
    "Here's the JSON schema provided for a section of the NY Times API:\n",
    "\n",
    "<img src=\"images/schema_detailed.png\" width=\"500\">\n"
   ]
  },
  {
   "cell_type": "markdown",
   "metadata": {},
   "source": [
    "You can see that the master structure is a dictionary and has a key named 'response'. This is also a dictionary and has two keys: 'docs' and 'meta'. As you continue to examine the schema hierarchy, you'll notice the vast majority, in this case, are dictionaries. "
   ]
  },
  {
   "cell_type": "markdown",
   "metadata": {},
   "source": [
    "## Loading the Data File\n",
    "\n",
    "As you saw before, let's start by importing this data from the file. Here's how to open the file and load its contents."
   ]
  },
  {
   "cell_type": "code",
   "execution_count": 1,
   "metadata": {},
   "outputs": [],
   "source": [
    "import json"
   ]
  },
  {
   "cell_type": "code",
   "execution_count": 2,
   "metadata": {},
   "outputs": [],
   "source": [
    "f = open('ny_times_response.json', 'r')\n",
    "data = json.load(f)"
   ]
  },
  {
   "cell_type": "code",
   "execution_count": 3,
   "metadata": {},
   "outputs": [
    {
     "name": "stdout",
     "output_type": "stream",
     "text": [
      "<class 'dict'>\n",
      "dict_keys(['status', 'copyright', 'response'])\n"
     ]
    }
   ],
   "source": [
    "print(type(data))\n",
    "print(data.keys())"
   ]
  },
  {
   "cell_type": "markdown",
   "metadata": {},
   "source": [
    "You should see that there are two additional keys 'status' and 'copyright' which were not shown in the schema documentation."
   ]
  },
  {
   "cell_type": "markdown",
   "metadata": {},
   "source": [
    "## Loading Specific Data\n",
    "\n",
    "Looking at the schema, you might be interested in retrieving a specific piece of data, such as the articles' headlines. Notice that this is a key under **'docs'**, which is under 'response'. So the schema is roughly: **data['response']['docs']['headline']**. While this is close to the code you'll use to extract headlines, something is a bit off. Notice that if you look closely at the schema outline, that the 'docs' subheading is actually a list. Each item within this list should be a dictionary with the keys shown above, but that is an important distinction. Breaking it into two steps you have:"
   ]
  },
  {
   "cell_type": "code",
   "execution_count": 9,
   "metadata": {},
   "outputs": [
    {
     "data": {
      "text/plain": [
       "dict_keys(['web_url', 'snippet', 'abstract', 'print_page', 'blog', 'source', 'multimedia', 'headline', 'keywords', 'pub_date', 'document_type', 'type_of_material', '_id', 'word_count', 'score'])"
      ]
     },
     "execution_count": 9,
     "metadata": {},
     "output_type": "execute_result"
    }
   ],
   "source": [
    "data['response']['docs'][0].keys()"
   ]
  },
  {
   "cell_type": "code",
   "execution_count": 4,
   "metadata": {},
   "outputs": [
    {
     "name": "stdout",
     "output_type": "stream",
     "text": [
      "<class 'list'> 9\n"
     ]
    }
   ],
   "source": [
    "docs = data['response']['docs']\n",
    "print(type(docs), len(docs))"
   ]
  },
  {
   "cell_type": "code",
   "execution_count": 10,
   "metadata": {},
   "outputs": [
    {
     "name": "stdout",
     "output_type": "stream",
     "text": [
      "{'main': \"HIGGINS, SPENT $22,189.53.; Governor-Elect's Election Expenses -- Harrison $9,220.28.\", 'kicker': None, 'content_kicker': None, 'print_headline': None, 'name': None, 'seo': None, 'sub': None}\n",
      "{'main': 'GARDEN BOUTS CANCELED; Mauriello Says He Could Not Be Ready on Nov. 3', 'kicker': '1', 'content_kicker': None, 'print_headline': None, 'name': None, 'seo': None, 'sub': None}\n",
      "{'main': 'Stock Drop Is Biggest in 2 Months--Margin Rise Held Factor in Lightest Trading of 1955', 'kicker': '1', 'content_kicker': None, 'print_headline': None, 'name': None, 'seo': None, 'sub': None}\n",
      "{'main': 'MUSIC OF THE WEEK', 'kicker': None, 'content_kicker': None, 'print_headline': None, 'name': None, 'seo': None, 'sub': None}\n",
      "{'main': 'Anacomp Inc. reports earnings for Qtr to March 31', 'kicker': None, 'content_kicker': None, 'print_headline': None, 'name': None, 'seo': None, 'sub': None}\n",
      "{'main': 'Brooklyn Routs Yeshiva', 'kicker': '1', 'content_kicker': None, 'print_headline': None, 'name': None, 'seo': None, 'sub': None}\n",
      "{'main': 'Albuquerque Program Gives Drinkers a Lift', 'kicker': '1', 'content_kicker': None, 'print_headline': None, 'name': None, 'seo': None, 'sub': None}\n",
      "{'main': 'Front Page 7 -- No Title', 'kicker': '1', 'content_kicker': None, 'print_headline': None, 'name': None, 'seo': None, 'sub': None}\n",
      "{'main': 'UNIONS AND BUILDERS READY FOR LONG FIGHT; None of the Strikers Back - Lock-Out Soon in Effect. 23,000 ALREADY INVOLVED Orders Sent to Every Building Employer Within Twenty-five Miles -- House-smiths Vote Not to Strike.', 'kicker': None, 'content_kicker': None, 'print_headline': None, 'name': None, 'seo': None, 'sub': None}\n"
     ]
    }
   ],
   "source": [
    "for doc in docs:\n",
    "    print(doc['headline'])"
   ]
  },
  {
   "cell_type": "markdown",
   "metadata": {},
   "source": [
    "Or if you want to just print the main headlines themselves:"
   ]
  },
  {
   "cell_type": "code",
   "execution_count": 11,
   "metadata": {},
   "outputs": [
    {
     "name": "stdout",
     "output_type": "stream",
     "text": [
      "HIGGINS, SPENT $22,189.53.; Governor-Elect's Election Expenses -- Harrison $9,220.28.\n",
      "\n",
      "\n",
      "GARDEN BOUTS CANCELED; Mauriello Says He Could Not Be Ready on Nov. 3\n",
      "\n",
      "\n",
      "Stock Drop Is Biggest in 2 Months--Margin Rise Held Factor in Lightest Trading of 1955\n",
      "\n",
      "\n",
      "MUSIC OF THE WEEK\n",
      "\n",
      "\n",
      "Anacomp Inc. reports earnings for Qtr to March 31\n",
      "\n",
      "\n",
      "Brooklyn Routs Yeshiva\n",
      "\n",
      "\n",
      "Albuquerque Program Gives Drinkers a Lift\n",
      "\n",
      "\n",
      "Front Page 7 -- No Title\n",
      "\n",
      "\n",
      "UNIONS AND BUILDERS READY FOR LONG FIGHT; None of the Strikers Back - Lock-Out Soon in Effect. 23,000 ALREADY INVOLVED Orders Sent to Every Building Employer Within Twenty-five Miles -- House-smiths Vote Not to Strike.\n",
      "\n",
      "\n"
     ]
    }
   ],
   "source": [
    "for doc in docs:\n",
    "    print(doc['headline']['main'])\n",
    "    print('\\n')"
   ]
  },
  {
   "cell_type": "markdown",
   "metadata": {},
   "source": [
    "## Transforming JSON to Alternative Formats\n",
    "\n",
    "You've also previously started to take a look at how to transform JSON to DataFrames. Investigating the schema, a good option for this could again be the 'docs' subheading. While this still has nested data itself, it's often easier to load the entire section as a dataframe and then use additional functions to break apart the internally nested data from there."
   ]
  },
  {
   "cell_type": "code",
   "execution_count": 12,
   "metadata": {},
   "outputs": [],
   "source": [
    "import pandas as pd"
   ]
  },
  {
   "cell_type": "code",
   "execution_count": 14,
   "metadata": {
    "scrolled": true
   },
   "outputs": [
    {
     "data": {
      "text/html": [
       "<div>\n",
       "<style scoped>\n",
       "    .dataframe tbody tr th:only-of-type {\n",
       "        vertical-align: middle;\n",
       "    }\n",
       "\n",
       "    .dataframe tbody tr th {\n",
       "        vertical-align: top;\n",
       "    }\n",
       "\n",
       "    .dataframe thead th {\n",
       "        text-align: right;\n",
       "    }\n",
       "</style>\n",
       "<table border=\"1\" class=\"dataframe\">\n",
       "  <thead>\n",
       "    <tr style=\"text-align: right;\">\n",
       "      <th></th>\n",
       "      <th>web_url</th>\n",
       "      <th>snippet</th>\n",
       "      <th>abstract</th>\n",
       "      <th>print_page</th>\n",
       "      <th>blog</th>\n",
       "      <th>source</th>\n",
       "      <th>multimedia</th>\n",
       "      <th>headline</th>\n",
       "      <th>keywords</th>\n",
       "      <th>pub_date</th>\n",
       "      <th>document_type</th>\n",
       "      <th>type_of_material</th>\n",
       "      <th>_id</th>\n",
       "      <th>word_count</th>\n",
       "      <th>score</th>\n",
       "      <th>byline</th>\n",
       "      <th>news_desk</th>\n",
       "    </tr>\n",
       "  </thead>\n",
       "  <tbody>\n",
       "    <tr>\n",
       "      <th>0</th>\n",
       "      <td>https://query.nytimes.com/gst/abstract.html?re...</td>\n",
       "      <td>Spent $22,200</td>\n",
       "      <td>Spent $22,200</td>\n",
       "      <td>2</td>\n",
       "      <td>{}</td>\n",
       "      <td>The New York Times</td>\n",
       "      <td>[]</td>\n",
       "      <td>{'main': 'HIGGINS, SPENT $22,189.53.; Governor...</td>\n",
       "      <td>[{'name': 'persons', 'value': 'HIGGINS, LT. GO...</td>\n",
       "      <td>1904-11-17T00:00:00Z</td>\n",
       "      <td>article</td>\n",
       "      <td>Article</td>\n",
       "      <td>4fc04eb745c1498b0d23da00</td>\n",
       "      <td>213</td>\n",
       "      <td>1</td>\n",
       "      <td>NaN</td>\n",
       "      <td>NaN</td>\n",
       "    </tr>\n",
       "    <tr>\n",
       "      <th>1</th>\n",
       "      <td>https://query.nytimes.com/gst/abstract.html?re...</td>\n",
       "      <td></td>\n",
       "      <td>NaN</td>\n",
       "      <td>15</td>\n",
       "      <td>{}</td>\n",
       "      <td>The New York Times</td>\n",
       "      <td>[]</td>\n",
       "      <td>{'main': 'GARDEN BOUTS CANCELED; Mauriello Say...</td>\n",
       "      <td>[]</td>\n",
       "      <td>1944-10-23T00:00:00Z</td>\n",
       "      <td>article</td>\n",
       "      <td>Article</td>\n",
       "      <td>4fc21ebf45c1498b0d612b22</td>\n",
       "      <td>149</td>\n",
       "      <td>1</td>\n",
       "      <td>NaN</td>\n",
       "      <td>NaN</td>\n",
       "    </tr>\n",
       "    <tr>\n",
       "      <th>2</th>\n",
       "      <td>https://query.nytimes.com/gst/abstract.html?re...</td>\n",
       "      <td>Stock prices last week, on the lightest volume...</td>\n",
       "      <td>NaN</td>\n",
       "      <td>F1</td>\n",
       "      <td>{}</td>\n",
       "      <td>The New York Times</td>\n",
       "      <td>[]</td>\n",
       "      <td>{'main': 'Stock Drop Is Biggest in 2 Months--M...</td>\n",
       "      <td>[]</td>\n",
       "      <td>1955-05-15T00:00:00Z</td>\n",
       "      <td>article</td>\n",
       "      <td>Article</td>\n",
       "      <td>4fc3b41d45c1498b0d7fd41e</td>\n",
       "      <td>823</td>\n",
       "      <td>1</td>\n",
       "      <td>{'original': 'By JOHN G. FORREST', 'person': [...</td>\n",
       "      <td>NaN</td>\n",
       "    </tr>\n",
       "    <tr>\n",
       "      <th>3</th>\n",
       "      <td>https://query.nytimes.com/gst/abstract.html?re...</td>\n",
       "      <td>The first public rehearsal and concert of the ...</td>\n",
       "      <td>Healy, Michael, will suit</td>\n",
       "      <td>20</td>\n",
       "      <td>{}</td>\n",
       "      <td>The New York Times</td>\n",
       "      <td>[]</td>\n",
       "      <td>{'main': 'MUSIC OF THE WEEK', 'kicker': None, ...</td>\n",
       "      <td>[{'name': 'persons', 'value': 'HEALY, MICHAEL'...</td>\n",
       "      <td>1904-11-06T00:00:00Z</td>\n",
       "      <td>article</td>\n",
       "      <td>Article</td>\n",
       "      <td>4fc04eb745c1498b0d23da12</td>\n",
       "      <td>2609</td>\n",
       "      <td>1</td>\n",
       "      <td>NaN</td>\n",
       "      <td>NaN</td>\n",
       "    </tr>\n",
       "    <tr>\n",
       "      <th>4</th>\n",
       "      <td>https://www.nytimes.com/1992/05/06/business/an...</td>\n",
       "      <td></td>\n",
       "      <td>NaN</td>\n",
       "      <td>20</td>\n",
       "      <td>{}</td>\n",
       "      <td>The New York Times</td>\n",
       "      <td>[]</td>\n",
       "      <td>{'main': 'Anacomp Inc. reports earnings for Qt...</td>\n",
       "      <td>[{'name': 'subject', 'value': 'COMPANY EARNING...</td>\n",
       "      <td>1992-05-06T00:00:00Z</td>\n",
       "      <td>article</td>\n",
       "      <td>Statistics</td>\n",
       "      <td>4fd1b3018eb7c8105d6d690a</td>\n",
       "      <td>129</td>\n",
       "      <td>1</td>\n",
       "      <td>NaN</td>\n",
       "      <td>Financial Desk</td>\n",
       "    </tr>\n",
       "    <tr>\n",
       "      <th>5</th>\n",
       "      <td>https://query.nytimes.com/gst/abstract.html?re...</td>\n",
       "      <td></td>\n",
       "      <td>NaN</td>\n",
       "      <td>S9</td>\n",
       "      <td>{}</td>\n",
       "      <td>The New York Times</td>\n",
       "      <td>[]</td>\n",
       "      <td>{'main': 'Brooklyn Routs Yeshiva', 'kicker': '...</td>\n",
       "      <td>[]</td>\n",
       "      <td>1972-12-24T00:00:00Z</td>\n",
       "      <td>article</td>\n",
       "      <td>Article</td>\n",
       "      <td>4fc47bb045c1498b0da03363</td>\n",
       "      <td>144</td>\n",
       "      <td>1</td>\n",
       "      <td>NaN</td>\n",
       "      <td>NaN</td>\n",
       "    </tr>\n",
       "    <tr>\n",
       "      <th>6</th>\n",
       "      <td>https://query.nytimes.com/gst/abstract.html?re...</td>\n",
       "      <td>ALBUQUERQUE, N. M., Dec. 24 -- Holiday drinker...</td>\n",
       "      <td>NaN</td>\n",
       "      <td>11</td>\n",
       "      <td>{}</td>\n",
       "      <td>The New York Times</td>\n",
       "      <td>[]</td>\n",
       "      <td>{'main': 'Albuquerque Program Gives Drinkers a...</td>\n",
       "      <td>[]</td>\n",
       "      <td>1972-12-25T00:00:00Z</td>\n",
       "      <td>article</td>\n",
       "      <td>Article</td>\n",
       "      <td>4fc47bb045c1498b0da03367</td>\n",
       "      <td>151</td>\n",
       "      <td>1</td>\n",
       "      <td>{'original': 'Special to The New York Times', ...</td>\n",
       "      <td>NaN</td>\n",
       "    </tr>\n",
       "    <tr>\n",
       "      <th>7</th>\n",
       "      <td>https://query.nytimes.com/gst/abstract.html?re...</td>\n",
       "      <td></td>\n",
       "      <td>NaN</td>\n",
       "      <td>1</td>\n",
       "      <td>{}</td>\n",
       "      <td>The New York Times</td>\n",
       "      <td>[]</td>\n",
       "      <td>{'main': 'Front Page 7 -- No Title', 'kicker':...</td>\n",
       "      <td>[]</td>\n",
       "      <td>1944-10-24T00:00:00Z</td>\n",
       "      <td>article</td>\n",
       "      <td>Front Page</td>\n",
       "      <td>4fc21ebf45c1498b0d612b3c</td>\n",
       "      <td>29</td>\n",
       "      <td>1</td>\n",
       "      <td>NaN</td>\n",
       "      <td>NaN</td>\n",
       "    </tr>\n",
       "    <tr>\n",
       "      <th>8</th>\n",
       "      <td>https://query.nytimes.com/gst/abstract.html?re...</td>\n",
       "      <td>The employers and the unions have lined up in ...</td>\n",
       "      <td>housesmiths won't strike</td>\n",
       "      <td>1</td>\n",
       "      <td>{}</td>\n",
       "      <td>The New York Times</td>\n",
       "      <td>[]</td>\n",
       "      <td>{'main': 'UNIONS AND BUILDERS READY FOR LONG F...</td>\n",
       "      <td>[{'name': 'glocations', 'value': 'NEW YORK CIT...</td>\n",
       "      <td>1904-08-06T00:00:00Z</td>\n",
       "      <td>article</td>\n",
       "      <td>Front Page</td>\n",
       "      <td>4fc04eb745c1498b0d23da17</td>\n",
       "      <td>883</td>\n",
       "      <td>1</td>\n",
       "      <td>NaN</td>\n",
       "      <td>NaN</td>\n",
       "    </tr>\n",
       "  </tbody>\n",
       "</table>\n",
       "</div>"
      ],
      "text/plain": [
       "                                             web_url  \\\n",
       "0  https://query.nytimes.com/gst/abstract.html?re...   \n",
       "1  https://query.nytimes.com/gst/abstract.html?re...   \n",
       "2  https://query.nytimes.com/gst/abstract.html?re...   \n",
       "3  https://query.nytimes.com/gst/abstract.html?re...   \n",
       "4  https://www.nytimes.com/1992/05/06/business/an...   \n",
       "5  https://query.nytimes.com/gst/abstract.html?re...   \n",
       "6  https://query.nytimes.com/gst/abstract.html?re...   \n",
       "7  https://query.nytimes.com/gst/abstract.html?re...   \n",
       "8  https://query.nytimes.com/gst/abstract.html?re...   \n",
       "\n",
       "                                             snippet  \\\n",
       "0                                      Spent $22,200   \n",
       "1                                                      \n",
       "2  Stock prices last week, on the lightest volume...   \n",
       "3  The first public rehearsal and concert of the ...   \n",
       "4                                                      \n",
       "5                                                      \n",
       "6  ALBUQUERQUE, N. M., Dec. 24 -- Holiday drinker...   \n",
       "7                                                      \n",
       "8  The employers and the unions have lined up in ...   \n",
       "\n",
       "                    abstract print_page blog              source multimedia  \\\n",
       "0              Spent $22,200          2   {}  The New York Times         []   \n",
       "1                        NaN         15   {}  The New York Times         []   \n",
       "2                        NaN         F1   {}  The New York Times         []   \n",
       "3  Healy, Michael, will suit         20   {}  The New York Times         []   \n",
       "4                        NaN         20   {}  The New York Times         []   \n",
       "5                        NaN         S9   {}  The New York Times         []   \n",
       "6                        NaN         11   {}  The New York Times         []   \n",
       "7                        NaN          1   {}  The New York Times         []   \n",
       "8   housesmiths won't strike          1   {}  The New York Times         []   \n",
       "\n",
       "                                            headline  \\\n",
       "0  {'main': 'HIGGINS, SPENT $22,189.53.; Governor...   \n",
       "1  {'main': 'GARDEN BOUTS CANCELED; Mauriello Say...   \n",
       "2  {'main': 'Stock Drop Is Biggest in 2 Months--M...   \n",
       "3  {'main': 'MUSIC OF THE WEEK', 'kicker': None, ...   \n",
       "4  {'main': 'Anacomp Inc. reports earnings for Qt...   \n",
       "5  {'main': 'Brooklyn Routs Yeshiva', 'kicker': '...   \n",
       "6  {'main': 'Albuquerque Program Gives Drinkers a...   \n",
       "7  {'main': 'Front Page 7 -- No Title', 'kicker':...   \n",
       "8  {'main': 'UNIONS AND BUILDERS READY FOR LONG F...   \n",
       "\n",
       "                                            keywords              pub_date  \\\n",
       "0  [{'name': 'persons', 'value': 'HIGGINS, LT. GO...  1904-11-17T00:00:00Z   \n",
       "1                                                 []  1944-10-23T00:00:00Z   \n",
       "2                                                 []  1955-05-15T00:00:00Z   \n",
       "3  [{'name': 'persons', 'value': 'HEALY, MICHAEL'...  1904-11-06T00:00:00Z   \n",
       "4  [{'name': 'subject', 'value': 'COMPANY EARNING...  1992-05-06T00:00:00Z   \n",
       "5                                                 []  1972-12-24T00:00:00Z   \n",
       "6                                                 []  1972-12-25T00:00:00Z   \n",
       "7                                                 []  1944-10-24T00:00:00Z   \n",
       "8  [{'name': 'glocations', 'value': 'NEW YORK CIT...  1904-08-06T00:00:00Z   \n",
       "\n",
       "  document_type type_of_material                       _id  word_count  score  \\\n",
       "0       article          Article  4fc04eb745c1498b0d23da00         213      1   \n",
       "1       article          Article  4fc21ebf45c1498b0d612b22         149      1   \n",
       "2       article          Article  4fc3b41d45c1498b0d7fd41e         823      1   \n",
       "3       article          Article  4fc04eb745c1498b0d23da12        2609      1   \n",
       "4       article       Statistics  4fd1b3018eb7c8105d6d690a         129      1   \n",
       "5       article          Article  4fc47bb045c1498b0da03363         144      1   \n",
       "6       article          Article  4fc47bb045c1498b0da03367         151      1   \n",
       "7       article       Front Page  4fc21ebf45c1498b0d612b3c          29      1   \n",
       "8       article       Front Page  4fc04eb745c1498b0d23da17         883      1   \n",
       "\n",
       "                                              byline       news_desk  \n",
       "0                                                NaN             NaN  \n",
       "1                                                NaN             NaN  \n",
       "2  {'original': 'By JOHN G. FORREST', 'person': [...             NaN  \n",
       "3                                                NaN             NaN  \n",
       "4                                                NaN  Financial Desk  \n",
       "5                                                NaN             NaN  \n",
       "6  {'original': 'Special to The New York Times', ...             NaN  \n",
       "7                                                NaN             NaN  \n",
       "8                                                NaN             NaN  "
      ]
     },
     "execution_count": 14,
     "metadata": {},
     "output_type": "execute_result"
    }
   ],
   "source": [
    "df = pd.DataFrame(data['response']['docs'])\n",
    "df"
   ]
  },
  {
   "cell_type": "code",
   "execution_count": 17,
   "metadata": {},
   "outputs": [
    {
     "data": {
      "text/plain": [
       "{'main': \"HIGGINS, SPENT $22,189.53.; Governor-Elect's Election Expenses -- Harrison $9,220.28.\",\n",
       " 'kicker': None,\n",
       " 'content_kicker': None,\n",
       " 'print_headline': None,\n",
       " 'name': None,\n",
       " 'seo': None,\n",
       " 'sub': None}"
      ]
     },
     "execution_count": 17,
     "metadata": {},
     "output_type": "execute_result"
    }
   ],
   "source": [
    "df.headline[0]"
   ]
  },
  {
   "cell_type": "markdown",
   "metadata": {},
   "source": [
    "## Breaking out nested data\n",
    "\n",
    "Now that you have the data loaded, it's time to clean it up by breaking out some of the nested data. For example, you should notice that the headline entries are actualy dictionaries. You could transform these into singular data columns with something like this:"
   ]
  },
  {
   "cell_type": "code",
   "execution_count": 15,
   "metadata": {},
   "outputs": [
    {
     "data": {
      "text/html": [
       "<div>\n",
       "<style scoped>\n",
       "    .dataframe tbody tr th:only-of-type {\n",
       "        vertical-align: middle;\n",
       "    }\n",
       "\n",
       "    .dataframe tbody tr th {\n",
       "        vertical-align: top;\n",
       "    }\n",
       "\n",
       "    .dataframe thead th {\n",
       "        text-align: right;\n",
       "    }\n",
       "</style>\n",
       "<table border=\"1\" class=\"dataframe\">\n",
       "  <thead>\n",
       "    <tr style=\"text-align: right;\">\n",
       "      <th></th>\n",
       "      <th>headline_main</th>\n",
       "      <th>headline_kicker</th>\n",
       "      <th>headline_content_kicker</th>\n",
       "      <th>headline_print_headline</th>\n",
       "      <th>headline_name</th>\n",
       "      <th>headline_seo</th>\n",
       "      <th>headline_sub</th>\n",
       "    </tr>\n",
       "  </thead>\n",
       "  <tbody>\n",
       "    <tr>\n",
       "      <th>0</th>\n",
       "      <td>HIGGINS, SPENT $22,189.53.; Governor-Elect's E...</td>\n",
       "      <td>None</td>\n",
       "      <td>None</td>\n",
       "      <td>None</td>\n",
       "      <td>None</td>\n",
       "      <td>None</td>\n",
       "      <td>None</td>\n",
       "    </tr>\n",
       "    <tr>\n",
       "      <th>1</th>\n",
       "      <td>GARDEN BOUTS CANCELED; Mauriello Says He Could...</td>\n",
       "      <td>1</td>\n",
       "      <td>None</td>\n",
       "      <td>None</td>\n",
       "      <td>None</td>\n",
       "      <td>None</td>\n",
       "      <td>None</td>\n",
       "    </tr>\n",
       "    <tr>\n",
       "      <th>2</th>\n",
       "      <td>Stock Drop Is Biggest in 2 Months--Margin Rise...</td>\n",
       "      <td>1</td>\n",
       "      <td>None</td>\n",
       "      <td>None</td>\n",
       "      <td>None</td>\n",
       "      <td>None</td>\n",
       "      <td>None</td>\n",
       "    </tr>\n",
       "    <tr>\n",
       "      <th>3</th>\n",
       "      <td>MUSIC OF THE WEEK</td>\n",
       "      <td>None</td>\n",
       "      <td>None</td>\n",
       "      <td>None</td>\n",
       "      <td>None</td>\n",
       "      <td>None</td>\n",
       "      <td>None</td>\n",
       "    </tr>\n",
       "    <tr>\n",
       "      <th>4</th>\n",
       "      <td>Anacomp Inc. reports earnings for Qtr to March 31</td>\n",
       "      <td>None</td>\n",
       "      <td>None</td>\n",
       "      <td>None</td>\n",
       "      <td>None</td>\n",
       "      <td>None</td>\n",
       "      <td>None</td>\n",
       "    </tr>\n",
       "  </tbody>\n",
       "</table>\n",
       "</div>"
      ],
      "text/plain": [
       "                                       headline_main headline_kicker  \\\n",
       "0  HIGGINS, SPENT $22,189.53.; Governor-Elect's E...            None   \n",
       "1  GARDEN BOUTS CANCELED; Mauriello Says He Could...               1   \n",
       "2  Stock Drop Is Biggest in 2 Months--Margin Rise...               1   \n",
       "3                                  MUSIC OF THE WEEK            None   \n",
       "4  Anacomp Inc. reports earnings for Qtr to March 31            None   \n",
       "\n",
       "  headline_content_kicker headline_print_headline headline_name headline_seo  \\\n",
       "0                    None                    None          None         None   \n",
       "1                    None                    None          None         None   \n",
       "2                    None                    None          None         None   \n",
       "3                    None                    None          None         None   \n",
       "4                    None                    None          None         None   \n",
       "\n",
       "  headline_sub  \n",
       "0         None  \n",
       "1         None  \n",
       "2         None  \n",
       "3         None  \n",
       "4         None  "
      ]
     },
     "execution_count": 15,
     "metadata": {},
     "output_type": "execute_result"
    }
   ],
   "source": [
    "keys = df.headline.iloc[0].keys() #Get dictionary keys\n",
    "#Keep track of columns we make for subsequent preview\n",
    "new_cols = []\n",
    "#Create a new feature for each of these keys\n",
    "for key in keys:\n",
    "    new_col = 'headline_{}'.format(key) #Create new column name\n",
    "    df[new_col] = df.headline.map(lambda x: x[key]) #Create a new column\n",
    "    new_cols.append(new_col)\n",
    "df[new_cols].head()"
   ]
  },
  {
   "cell_type": "markdown",
   "metadata": {},
   "source": [
    "Wahoo! This is a good general strategy for transforming nested JSON: create a DataFrame and then break out nested features into their own column features."
   ]
  },
  {
   "cell_type": "markdown",
   "metadata": {},
   "source": [
    "## Outputing to JSON\n",
    "\n",
    "Finally, take a look at how you can write data back to JSON. Like loading, you first open a file (this time with write permission) and use the json package to transfer data to that file container."
   ]
  },
  {
   "cell_type": "code",
   "execution_count": 18,
   "metadata": {},
   "outputs": [],
   "source": [
    "with open('output.json', 'w') as f:\n",
    "    json.dump(data, f)"
   ]
  },
  {
   "cell_type": "markdown",
   "metadata": {},
   "source": [
    "## Summary\n",
    "There you have it! In this, you took another look at JSON, taking a look at an example schema diagram and retrieving information. You also looked at a general procedure for transforming nested data to Pandas DataFrames (create a DataFrame, and then break apart nested data using lambda functions to create additional columns). Finally, you also took a brief look at saving data to json files. "
   ]
  },
  {
   "cell_type": "markdown",
   "metadata": {},
   "source": [
    "# Introduction to APIs\n",
    "\n",
    "## Introduction \n",
    "\n",
    "**_APIs_** (short for **_Application Programming Interfaces_**) are an important aspect of the modern internet. APIs are what allows everything on the internet to play nicely with each other and work together.\n",
    "\n",
    "### What is an API made of?\n",
    "\n",
    "APIs are very common in the tech world, which means that are many, many different kinds that you're going to run into. While each API you work with will be unique in some way, there are some common traits you can expect to see overall. An API has three main components as listed below:\n",
    "\n",
    "* **Access Permissions:** Is the user allowed to ask for data or services?\n",
    "* **Request:** The service being asked for (e.g., if I give you current location using GPS, tell me the map around that place - as we see in Pokemon Go).  A Request has two main parts:\n",
    "\n",
    "    * **Methods:** Once the access is permitted, what questions can be asked.\n",
    "    \n",
    "    * **Parameters:** Additional details that can be sent with requests or responses\n",
    "\n",
    "* **Response:** The data or service as a result of the request.\n",
    "\n",
    "We'll look more deeply at how to use these components in the upcoming lessons for this section. For now, our goal is to understand that APIs:\n",
    "\n",
    "* Provide a standardized way of letting us interact with 3rd party software/services\n",
    "* Consist of a **_Request_** and a **_Response_**\n",
    "* Can have special **_Access Permissions_** depending on the API and the user making the request. \n"
   ]
  },
  {
   "cell_type": "markdown",
   "metadata": {},
   "source": [
    "# The New York Times API\n",
    "\n",
    "NYT has [several different APIs](https://developer.nytimes.com/apis) for various data, let's look at the Movie Reviews API.\n",
    "\n",
    "<img src=\"images/nytimes_movie_schema_detailed.png\" width=500>\n",
    "\n",
    "More about the documentation [here](https://developer.nytimes.com/docs/movie-reviews-api/1/overview)."
   ]
  },
  {
   "cell_type": "markdown",
   "metadata": {},
   "source": [
    "## Getting Data from APIs: Requests\n",
    "\n",
    "`requests` is a third-party library that allows you to send HTTP requests using Python. With this library, you can access content like web page headers, form data, files, and parameters via simple Python commands. It also allows you to access the response data in a simple way.\n"
   ]
  },
  {
   "cell_type": "code",
   "execution_count": 19,
   "metadata": {},
   "outputs": [],
   "source": [
    "import requests"
   ]
  },
  {
   "cell_type": "code",
   "execution_count": 24,
   "metadata": {},
   "outputs": [],
   "source": [
    "response = requests.get('https://api.nytimes.com/svc/movies/v2/reviews/search.json?query=godfather&api-key=')"
   ]
  },
  {
   "cell_type": "code",
   "execution_count": 23,
   "metadata": {},
   "outputs": [
    {
     "data": {
      "text/plain": [
       "<Response [200]>"
      ]
     },
     "execution_count": 23,
     "metadata": {},
     "output_type": "execute_result"
    }
   ],
   "source": [
    "response"
   ]
  },
  {
   "cell_type": "markdown",
   "metadata": {},
   "source": [
    "## Response codes: \n",
    "\n",
    "https://en.wikipedia.org/wiki/List_of_HTTP_status_codes\n",
    "\n",
    "What is a 401?\n",
    "\n",
    "## API Keys!!\n",
    "\n",
    "https://developer.nytimes.com/get-started\n",
    "\n"
   ]
  },
  {
   "cell_type": "code",
   "execution_count": null,
   "metadata": {},
   "outputs": [],
   "source": [
    "response = requests.get('https://api.nytimes.com/svc/movies/v2/reviews/search.json?query=godfather&api-key={}'.format(yish_key))"
   ]
  },
  {
   "cell_type": "code",
   "execution_count": null,
   "metadata": {},
   "outputs": [],
   "source": [
    "response.json()"
   ]
  },
  {
   "cell_type": "markdown",
   "metadata": {},
   "source": [
    "### Should I publicly share my passwords on Github?\n",
    "\n",
    "When using an API that requires an API key and password you should **NEVER** hardcode theses values into your main file. When you upload your project onto github it is completely public and vulnerable to attack. Assume that if you put sensitive information publicly on the internet it will be found and abused. \n",
    "\n",
    "To this end, how can we easily access our API key without opening ourselves up to vulnerabilities?\n",
    "\n",
    "There are many ways to store sensitive information!\n",
    "\n",
    "1. Create a `config.py` file to store passwords\n",
    "2. Create a `.gitignore` on your GitHub repository"
   ]
  },
  {
   "cell_type": "code",
   "execution_count": 25,
   "metadata": {},
   "outputs": [],
   "source": [
    "from config2 import yish_key, yish_secret"
   ]
  },
  {
   "cell_type": "code",
   "execution_count": null,
   "metadata": {},
   "outputs": [],
   "source": []
  },
  {
   "cell_type": "markdown",
   "metadata": {},
   "source": [
    "## Making API Requests\n",
    "\n",
    "Getting movie reviews from movies released in 2020."
   ]
  },
  {
   "cell_type": "code",
   "execution_count": null,
   "metadata": {},
   "outputs": [],
   "source": [
    "uri = 'https://api.nytimes.com/svc/movies/v2/reviews/search.json?opening-date=2020-01-01&api-key=' \n",
    "# uniform resource identifier"
   ]
  },
  {
   "cell_type": "code",
   "execution_count": null,
   "metadata": {},
   "outputs": [],
   "source": [
    "results = requests.get(uri+yish_key).json()\n",
    "results"
   ]
  },
  {
   "cell_type": "code",
   "execution_count": null,
   "metadata": {},
   "outputs": [],
   "source": [
    "results['results'][0].keys()"
   ]
  },
  {
   "cell_type": "code",
   "execution_count": null,
   "metadata": {},
   "outputs": [],
   "source": [
    "import pandas as pd"
   ]
  },
  {
   "cell_type": "code",
   "execution_count": null,
   "metadata": {},
   "outputs": [],
   "source": [
    "df = pd.DataFrame(results['results'])"
   ]
  },
  {
   "cell_type": "code",
   "execution_count": null,
   "metadata": {},
   "outputs": [],
   "source": [
    "df"
   ]
  },
  {
   "cell_type": "markdown",
   "metadata": {},
   "source": [
    "## Pagination x Offset"
   ]
  },
  {
   "cell_type": "code",
   "execution_count": null,
   "metadata": {},
   "outputs": [],
   "source": [
    "uri2 = 'https://api.nytimes.com/svc/movies/v2/reviews/search.json?opening-date=2020-01-01&offset=20&api-key='\n",
    "\n",
    "results2 = requests.get(uri2+yish_key).json()\n",
    "results2\n"
   ]
  },
  {
   "cell_type": "code",
   "execution_count": null,
   "metadata": {},
   "outputs": [],
   "source": [
    "def get2020reviews(n): # where n*20 is the number of reviews we want\n",
    "    results = []\n",
    "    for i in range(0, n):\n",
    "        if i != 0:\n",
    "            uri = 'https://api.nytimes.com/svc/movies/v2/reviews/search.json?opening-date=2020-01-01&offset={}&api-key='.format(n*20)\n",
    "        else:\n",
    "            uri = 'https://api.nytimes.com/svc/movies/v2/reviews/search.json?opening-date=2020-01-01&api-key='\n",
    "        \n",
    "        response = requests.get(uri+yish_key).json()\n",
    "        if response['status'] == 'OK':\n",
    "            results += response['results']\n",
    "            \n",
    "    return pd.DataFrame(results)\n",
    "        "
   ]
  },
  {
   "cell_type": "code",
   "execution_count": null,
   "metadata": {},
   "outputs": [],
   "source": [
    "get2020reviews(2)"
   ]
  }
 ],
 "metadata": {
  "kernelspec": {
   "display_name": "Python 3",
   "language": "python",
   "name": "python3"
  },
  "language_info": {
   "codemirror_mode": {
    "name": "ipython",
    "version": 3
   },
   "file_extension": ".py",
   "mimetype": "text/x-python",
   "name": "python",
   "nbconvert_exporter": "python",
   "pygments_lexer": "ipython3",
   "version": "3.7.6"
  },
  "toc": {
   "base_numbering": 1,
   "nav_menu": {},
   "number_sections": true,
   "sideBar": true,
   "skip_h1_title": false,
   "title_cell": "Table of Contents",
   "title_sidebar": "Contents",
   "toc_cell": false,
   "toc_position": {},
   "toc_section_display": true,
   "toc_window_display": false
  }
 },
 "nbformat": 4,
 "nbformat_minor": 2
}
